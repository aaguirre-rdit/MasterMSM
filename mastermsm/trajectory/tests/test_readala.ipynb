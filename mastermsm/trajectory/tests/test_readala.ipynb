{
 "cells": [
  {
   "cell_type": "code",
   "execution_count": 45,
   "metadata": {},
   "outputs": [],
   "source": [
    "import unittest\n",
    "import mdtraj as md\n",
    "import numpy as np\n",
    "from mastermsm.trajectory import traj\n",
    "from mastermsm.msm import msm\n",
    "from mastermsm.fewsm import fewsm\n",
    "import matplotlib.pyplot as plt\n",
    "import matplotlib as mpl\n",
    "#%matplotlib inline"
   ]
  },
  {
   "cell_type": "code",
   "execution_count": 48,
   "metadata": {},
   "outputs": [
    {
     "name": "stderr",
     "output_type": "stream",
     "text": [
      "test_traj (__main__.TestMDtraj) ... ok\n",
      "test_fewsm (__main__.UseFewSM) ... "
     ]
    },
    {
     "name": "stdout",
     "output_type": "stream",
     "text": [
      "\n",
      " Building MSM from \n",
      " [['data/protein_only.xtc']]\n",
      "     # states: 197\n"
     ]
    },
    {
     "name": "stderr",
     "output_type": "stream",
     "text": [
      "/Users/anneaguirregonzalez/.local/lib/python3.7/site-packages/MasterMSM-0.1.dev0-py3.7.egg/mastermsm/msm/msm_lib.py:512: PendingDeprecationWarning: the matrix subclass is not the recommended way to represent matrices or deal with linear algebra (see https://docs.scipy.org/doc/numpy/user/numpy-for-matlab-users.html). Please adjust your code to use regular ndarray.\n",
      "/Users/anneaguirregonzalez/.local/lib/python3.7/site-packages/MasterMSM-0.1.dev0-py3.7.egg/mastermsm/msm/msm_lib.py:512: PendingDeprecationWarning: the matrix subclass is not the recommended way to represent matrices or deal with linear algebra (see https://docs.scipy.org/doc/numpy/user/numpy-for-matlab-users.html). Please adjust your code to use regular ndarray.\n",
      "/Users/anneaguirregonzalez/.local/lib/python3.7/site-packages/MasterMSM-0.1.dev0-py3.7.egg/mastermsm/msm/msm_lib.py:512: PendingDeprecationWarning: the matrix subclass is not the recommended way to represent matrices or deal with linear algebra (see https://docs.scipy.org/doc/numpy/user/numpy-for-matlab-users.html). Please adjust your code to use regular ndarray.\n",
      "/Users/anneaguirregonzalez/.local/lib/python3.7/site-packages/MasterMSM-0.1.dev0-py3.7.egg/mastermsm/msm/msm_lib.py:512: PendingDeprecationWarning: the matrix subclass is not the recommended way to represent matrices or deal with linear algebra (see https://docs.scipy.org/doc/numpy/user/numpy-for-matlab-users.html). Please adjust your code to use regular ndarray.\n",
      "ERROR\n",
      "test_atributes (__main__.UseMDtraj) ... ok\n",
      "test_discretize (__main__.UseMDtraj) ... "
     ]
    },
    {
     "name": "stdout",
     "output_type": "stream",
     "text": [
      "\n",
      " Initial membership of microstates to macrostates:\n",
      "0 : 15\n",
      "1 : 182\n",
      "\n",
      " Mapping trajectory onto macrostates...\n",
      "******************\n"
     ]
    },
    {
     "name": "stderr",
     "output_type": "stream",
     "text": [
      "ok\n",
      "test_convergence (__main__.UseMSM) ... "
     ]
    },
    {
     "name": "stdout",
     "output_type": "stream",
     "text": [
      "keys [81, 90, 80, 92, 91, 99, 0, 1, 2, 93, 82, 83, 10, 42, 33, 49, 40, 43, 12, 3, 53, 50, 59, 11, 72, 94, 62, 32, 73, 52, 51, 41, 21, 30, 31, 22, 23, 71, 89, 70, 9, 20, 63, 84, 60, 61, 74, 47, 46, 48, 57, 66, 26, 6, 96, 15, 97, 16, 56, 37, 36, 98, 79, 29, 34, 39, 44, 13]\n",
      "\n",
      " Building MSM from \n",
      " [['data/protein_only.xtc']]\n",
      "     # states: 68\n"
     ]
    },
    {
     "name": "stderr",
     "output_type": "stream",
     "text": [
      "/Users/anneaguirregonzalez/.local/lib/python3.7/site-packages/MasterMSM-0.1.dev0-py3.7.egg/mastermsm/msm/msm_lib.py:512: PendingDeprecationWarning: the matrix subclass is not the recommended way to represent matrices or deal with linear algebra (see https://docs.scipy.org/doc/numpy/user/numpy-for-matlab-users.html). Please adjust your code to use regular ndarray.\n",
      "/Users/anneaguirregonzalez/.local/lib/python3.7/site-packages/MasterMSM-0.1.dev0-py3.7.egg/mastermsm/msm/msm_lib.py:512: PendingDeprecationWarning: the matrix subclass is not the recommended way to represent matrices or deal with linear algebra (see https://docs.scipy.org/doc/numpy/user/numpy-for-matlab-users.html). Please adjust your code to use regular ndarray.\n",
      "/Users/anneaguirregonzalez/.local/lib/python3.7/site-packages/MasterMSM-0.1.dev0-py3.7.egg/mastermsm/msm/msm_lib.py:512: PendingDeprecationWarning: the matrix subclass is not the recommended way to represent matrices or deal with linear algebra (see https://docs.scipy.org/doc/numpy/user/numpy-for-matlab-users.html). Please adjust your code to use regular ndarray.\n",
      "/Users/anneaguirregonzalez/.local/lib/python3.7/site-packages/MasterMSM-0.1.dev0-py3.7.egg/mastermsm/msm/msm_lib.py:512: PendingDeprecationWarning: the matrix subclass is not the recommended way to represent matrices or deal with linear algebra (see https://docs.scipy.org/doc/numpy/user/numpy-for-matlab-users.html). Please adjust your code to use regular ndarray.\n",
      "/Users/anneaguirregonzalez/.local/lib/python3.7/site-packages/MasterMSM-0.1.dev0-py3.7.egg/mastermsm/msm/msm_lib.py:512: PendingDeprecationWarning: the matrix subclass is not the recommended way to represent matrices or deal with linear algebra (see https://docs.scipy.org/doc/numpy/user/numpy-for-matlab-users.html). Please adjust your code to use regular ndarray.\n",
      "/Users/anneaguirregonzalez/.local/lib/python3.7/site-packages/MasterMSM-0.1.dev0-py3.7.egg/mastermsm/msm/msm_lib.py:512: PendingDeprecationWarning: the matrix subclass is not the recommended way to represent matrices or deal with linear algebra (see https://docs.scipy.org/doc/numpy/user/numpy-for-matlab-users.html). Please adjust your code to use regular ndarray.\n",
      "/Users/anneaguirregonzalez/.local/lib/python3.7/site-packages/MasterMSM-0.1.dev0-py3.7.egg/mastermsm/msm/msm_lib.py:512: PendingDeprecationWarning: the matrix subclass is not the recommended way to represent matrices or deal with linear algebra (see https://docs.scipy.org/doc/numpy/user/numpy-for-matlab-users.html). Please adjust your code to use regular ndarray.\n",
      "/Users/anneaguirregonzalez/.local/lib/python3.7/site-packages/MasterMSM-0.1.dev0-py3.7.egg/mastermsm/msm/msm_lib.py:512: PendingDeprecationWarning: the matrix subclass is not the recommended way to represent matrices or deal with linear algebra (see https://docs.scipy.org/doc/numpy/user/numpy-for-matlab-users.html). Please adjust your code to use regular ndarray.\n",
      "/Users/anneaguirregonzalez/.local/lib/python3.7/site-packages/MasterMSM-0.1.dev0-py3.7.egg/mastermsm/msm/msm_lib.py:512: PendingDeprecationWarning: the matrix subclass is not the recommended way to represent matrices or deal with linear algebra (see https://docs.scipy.org/doc/numpy/user/numpy-for-matlab-users.html). Please adjust your code to use regular ndarray.\n",
      "/Users/anneaguirregonzalez/.local/lib/python3.7/site-packages/MasterMSM-0.1.dev0-py3.7.egg/mastermsm/msm/msm_lib.py:512: PendingDeprecationWarning: the matrix subclass is not the recommended way to represent matrices or deal with linear algebra (see https://docs.scipy.org/doc/numpy/user/numpy-for-matlab-users.html). Please adjust your code to use regular ndarray.\n",
      "/Users/anneaguirregonzalez/.local/lib/python3.7/site-packages/MasterMSM-0.1.dev0-py3.7.egg/mastermsm/msm/msm_lib.py:512: PendingDeprecationWarning: the matrix subclass is not the recommended way to represent matrices or deal with linear algebra (see https://docs.scipy.org/doc/numpy/user/numpy-for-matlab-users.html). Please adjust your code to use regular ndarray.\n",
      "/Users/anneaguirregonzalez/.local/lib/python3.7/site-packages/MasterMSM-0.1.dev0-py3.7.egg/mastermsm/msm/msm_lib.py:512: PendingDeprecationWarning: the matrix subclass is not the recommended way to represent matrices or deal with linear algebra (see https://docs.scipy.org/doc/numpy/user/numpy-for-matlab-users.html). Please adjust your code to use regular ndarray.\n",
      "/Users/anneaguirregonzalez/.local/lib/python3.7/site-packages/MasterMSM-0.1.dev0-py3.7.egg/mastermsm/msm/msm_lib.py:512: PendingDeprecationWarning: the matrix subclass is not the recommended way to represent matrices or deal with linear algebra (see https://docs.scipy.org/doc/numpy/user/numpy-for-matlab-users.html). Please adjust your code to use regular ndarray.\n",
      "/Users/anneaguirregonzalez/.local/lib/python3.7/site-packages/MasterMSM-0.1.dev0-py3.7.egg/mastermsm/msm/msm_lib.py:512: PendingDeprecationWarning: the matrix subclass is not the recommended way to represent matrices or deal with linear algebra (see https://docs.scipy.org/doc/numpy/user/numpy-for-matlab-users.html). Please adjust your code to use regular ndarray.\n",
      "/Users/anneaguirregonzalez/.local/lib/python3.7/site-packages/MasterMSM-0.1.dev0-py3.7.egg/mastermsm/msm/msm_lib.py:512: PendingDeprecationWarning: the matrix subclass is not the recommended way to represent matrices or deal with linear algebra (see https://docs.scipy.org/doc/numpy/user/numpy-for-matlab-users.html). Please adjust your code to use regular ndarray.\n",
      "/Users/anneaguirregonzalez/.local/lib/python3.7/site-packages/MasterMSM-0.1.dev0-py3.7.egg/mastermsm/msm/msm_lib.py:512: PendingDeprecationWarning: the matrix subclass is not the recommended way to represent matrices or deal with linear algebra (see https://docs.scipy.org/doc/numpy/user/numpy-for-matlab-users.html). Please adjust your code to use regular ndarray.\n",
      "/Users/anneaguirregonzalez/.local/lib/python3.7/site-packages/MasterMSM-0.1.dev0-py3.7.egg/mastermsm/msm/msm_lib.py:512: PendingDeprecationWarning: the matrix subclass is not the recommended way to represent matrices or deal with linear algebra (see https://docs.scipy.org/doc/numpy/user/numpy-for-matlab-users.html). Please adjust your code to use regular ndarray.\n",
      "/Users/anneaguirregonzalez/.local/lib/python3.7/site-packages/MasterMSM-0.1.dev0-py3.7.egg/mastermsm/msm/msm_lib.py:512: PendingDeprecationWarning: the matrix subclass is not the recommended way to represent matrices or deal with linear algebra (see https://docs.scipy.org/doc/numpy/user/numpy-for-matlab-users.html). Please adjust your code to use regular ndarray.\n",
      "/Users/anneaguirregonzalez/.local/lib/python3.7/site-packages/MasterMSM-0.1.dev0-py3.7.egg/mastermsm/msm/msm_lib.py:512: PendingDeprecationWarning: the matrix subclass is not the recommended way to represent matrices or deal with linear algebra (see https://docs.scipy.org/doc/numpy/user/numpy-for-matlab-users.html). Please adjust your code to use regular ndarray.\n",
      "/Users/anneaguirregonzalez/.local/lib/python3.7/site-packages/MasterMSM-0.1.dev0-py3.7.egg/mastermsm/msm/msm_lib.py:512: PendingDeprecationWarning: the matrix subclass is not the recommended way to represent matrices or deal with linear algebra (see https://docs.scipy.org/doc/numpy/user/numpy-for-matlab-users.html). Please adjust your code to use regular ndarray.\n",
      "ok\n",
      "test_msm (__main__.UseMSM) ... "
     ]
    },
    {
     "name": "stdout",
     "output_type": "stream",
     "text": [
      "keys [81, 90, 80, 92, 91, 99, 0, 1, 2, 93, 82, 83, 10, 42, 33, 49, 40, 43, 12, 3, 53, 50, 59, 11, 72, 94, 62, 32, 73, 52, 51, 41, 21, 30, 31, 22, 23, 71, 89, 70, 9, 20, 63, 84, 60, 61, 74, 47, 46, 48, 57, 66, 26, 6, 96, 15, 97, 16, 56, 37, 36, 98, 79, 29, 34, 39, 44, 13]\n",
      "\n",
      " Building MSM from \n",
      " [['data/protein_only.xtc']]\n",
      "     # states: 68\n"
     ]
    },
    {
     "name": "stderr",
     "output_type": "stream",
     "text": [
      "/Users/anneaguirregonzalez/.local/lib/python3.7/site-packages/MasterMSM-0.1.dev0-py3.7.egg/mastermsm/msm/msm_lib.py:512: PendingDeprecationWarning: the matrix subclass is not the recommended way to represent matrices or deal with linear algebra (see https://docs.scipy.org/doc/numpy/user/numpy-for-matlab-users.html). Please adjust your code to use regular ndarray.\n",
      "/Users/anneaguirregonzalez/.local/lib/python3.7/site-packages/MasterMSM-0.1.dev0-py3.7.egg/mastermsm/msm/msm_lib.py:512: PendingDeprecationWarning: the matrix subclass is not the recommended way to represent matrices or deal with linear algebra (see https://docs.scipy.org/doc/numpy/user/numpy-for-matlab-users.html). Please adjust your code to use regular ndarray.\n",
      "/Users/anneaguirregonzalez/.local/lib/python3.7/site-packages/MasterMSM-0.1.dev0-py3.7.egg/mastermsm/msm/msm_lib.py:512: PendingDeprecationWarning: the matrix subclass is not the recommended way to represent matrices or deal with linear algebra (see https://docs.scipy.org/doc/numpy/user/numpy-for-matlab-users.html). Please adjust your code to use regular ndarray.\n",
      "/Users/anneaguirregonzalez/.local/lib/python3.7/site-packages/MasterMSM-0.1.dev0-py3.7.egg/mastermsm/msm/msm_lib.py:512: PendingDeprecationWarning: the matrix subclass is not the recommended way to represent matrices or deal with linear algebra (see https://docs.scipy.org/doc/numpy/user/numpy-for-matlab-users.html). Please adjust your code to use regular ndarray.\n"
     ]
    },
    {
     "name": "stdout",
     "output_type": "stream",
     "text": [
      "['__class__', '__delattr__', '__dict__', '__dir__', '__doc__', '__eq__', '__format__', '__ge__', '__getattribute__', '__gt__', '__hash__', '__init__', '__init_subclass__', '__le__', '__lt__', '__module__', '__ne__', '__new__', '__reduce__', '__reduce_ex__', '__repr__', '__setattr__', '__sizeof__', '__str__', '__subclasshook__', '__weakref__', 'acf_mode', 'boots', 'calc_count_multi', 'calc_eigsK', 'calc_eigsT', 'check_connect', 'count', 'data', 'do_count', 'do_pfold', 'do_rate', 'do_trans', 'keep_keys', 'keep_states', 'keys', 'lagt', 'lvecsT', 'peqT', 'peq_ave', 'peq_std', 'propagateK', 'propagateT', 'rvecsT', 'sensitivity', 'sym', 'tauT', 'tau_ave', 'tau_std', 'trans']\n",
      "(68, 68)\n"
     ]
    },
    {
     "name": "stderr",
     "output_type": "stream",
     "text": [
      "ok\n",
      "\n",
      "======================================================================\n",
      "ERROR: test_fewsm (__main__.UseFewSM)\n",
      "----------------------------------------------------------------------\n",
      "Traceback (most recent call last):\n",
      "  File \"<ipython-input-48-4d8d512ca84d>\", line 140, in test_fewsm\n",
      "    self.assertIsNotNone(self.tr.mappedtraj)\n",
      "AttributeError: 'TimeSeries' object has no attribute 'mappedtraj'\n",
      "\n",
      "----------------------------------------------------------------------\n",
      "Ran 6 tests in 25.027s\n",
      "\n",
      "FAILED (errors=1)\n"
     ]
    },
    {
     "data": {
      "image/png": "[encoded data removed]",
      "text/plain": [
       "<Figure size 432x288 with 2 Axes>"
      ]
     },
     "metadata": {
      "needs_background": "light"
     },
     "output_type": "display_data"
    },
    {
     "data": {
      "image/png": "[encoded data removed]",
      "text/plain": [
       "<Figure size 1008x360 with 3 Axes>"
      ]
     },
     "metadata": {
      "needs_background": "light"
     },
     "output_type": "display_data"
    }
   ],
   "source": [
    "class TestMDtraj(unittest.TestCase):\n",
    "    def setUp(self):\n",
    "        self.traj = md.load('data/protein_only.xtc', \\\n",
    "                top='data/alaTB.gro')\n",
    "\n",
    "    def test_traj(self):\n",
    "        self.assertEqual(self.traj.n_atoms, 19, 'incorrect number of atoms')\n",
    "        self.assertEqual(self.traj.timestep, 1.0, 'incorrect timestep')\n",
    "        self.assertEqual(self.traj.n_residues, 3, 'incorrent number of residues')\n",
    "\n",
    "\n",
    "class UseMDtraj(unittest.TestCase):\n",
    "\n",
    "    def setUp(self):\n",
    "        top='data/alaTB.gro'\n",
    "        trj=['data/protein_only.xtc']\n",
    "        tr = traj.TimeSeries(top=top, traj=trj)\n",
    "        self.tr = tr\n",
    "        pass\n",
    "\n",
    "    def test_atributes(self):\n",
    "        self.assertEqual(self.tr.dt, 1.0, 'incorrect timestamp')\n",
    "        self.assertIn('discretize',dir(self.tr),'discretize not in attributes')\n",
    "        self.assertIsInstance(self.tr.file_name,list,'file_name attribute is not a list')\n",
    "        self.assertIn('data/protein_only.xtc', self.tr.file_name, \\\n",
    "                      'sample trajectory is not TimeSeries file name')\n",
    "        self.assertIsInstance(self.tr.discretize, object, 'discretize attribute is not an object')\n",
    "        self.assertIn('mdt', dir(self.tr), 'MDTraj is not in attributes')\n",
    "        print('******************')\n",
    "    def test_discretize(self):\n",
    "        self.tr.discretize(method='rama', states=['A','E','L'])\n",
    "\n",
    "        self.assertIsNotNone(self.tr.distraj,'no discrete trajectory was created')\n",
    "\n",
    "        y = [1]*10003\n",
    "        for ind,i in enumerate(self.tr.distraj):\n",
    "            if i == 'A':\n",
    "                y[ind]=0\n",
    "            if i == 'E':\n",
    "                y[ind]=2\n",
    "            if i == 'O':\n",
    "                y[ind]=3\n",
    "\n",
    "        #plt.plot(range(len(self.tr.distraj[1:])), y[1:])\n",
    "        #plt.show()\n",
    "        self.tr.find_keys()\n",
    "        self.assertEqual(len(self.tr.keys), 3, 'incorrect number of states')\n",
    "\n",
    "\n",
    "class UseMSM(unittest.TestCase):\n",
    "    def setUp(self):\n",
    "        top = 'data/alaTB.gro'\n",
    "        trj = ['data/protein_only.xtc']\n",
    "        tr = traj.TimeSeries(top=top, traj=trj)\n",
    "        self.tr = tr\n",
    "        self.tr.discretize(method='ramagrid',nbins=10)\n",
    "        self.tr.find_keys()\n",
    "        print('keys',self.tr.keys)\n",
    "        self.msm = msm.SuperMSM([self.tr])\n",
    "    def test_msm(self):\n",
    "        self.assertEqual(1,1)\n",
    "        lagt=10\n",
    "        self.msm.do_msm(lagt)\n",
    "        self.msm.msms[lagt].do_trans(evecs=True)\n",
    "        self.msm.msms[lagt].boots()\n",
    "        print(dir(self.msm.msms[lagt]))\n",
    "        msm_10 = self.msm.msms[lagt]\n",
    "        fig, ax = plt.subplots(2,1)\n",
    "        ax[0].errorbar(range(1, len(self.msm.msms[lagt].tauT) + 1), self.msm.msms[lagt].tauT, fmt='o-', \\\n",
    "                      ms=10)\n",
    "        ax[0].set_xlabel('Eigenvalue')\n",
    "        ax[0].set_ylabel(r'$\\tau_i$')\n",
    "        ax[1].imshow(np.log(self.msm.msms[lagt].trans),interpolation='none',cmap='viridis_r')\n",
    "        T = msm_10.trans\n",
    "        self.assertIsNotNone(T,'Cannot calculate transition matrix')\n",
    "        print(T.shape)\n",
    "        self.assertIsNotNone(msm_10.rvecsT, 'R eigenvectors were could not be calculated')\n",
    "        #ax.set_ylim(0, 2100)\n",
    "        #ax.set_xlim(0, 32)\n",
    "        # plt.tight_layout()\n",
    "        # plt.show()\n",
    "        \n",
    "        fig, ax = plt.subplots(1,3, figsize=(14,5))\n",
    "        mat = np.zeros((10,10), float)\n",
    "        for i in [x for x in zip(self.msm.msms[10].keep_keys, \\\n",
    "                                 self.msm.msms[10].rvecsT[:,0])]:\n",
    "            #print i, i[0]%20, int(i[0]/20), -i[1]\n",
    "            mat[i[0]%10, int(i[0]/20)] = i[1]\n",
    "        ax[0].imshow(mat.transpose(), interpolation=\"none\", origin='lower', \\\n",
    "                     cmap='hot')\n",
    "        mat = np.zeros((10,10), float)\n",
    "        for i in [x for x in zip(self.msm.msms[10].keep_keys, \\\n",
    "                                 self.msm.msms[10].rvecsT[:,1])]:\n",
    "            #print i, i[0]%20, int(i[0]/20), -i[1]\n",
    "            mat[i[0]%10, int(i[0]/10)] = -i[1]\n",
    "        ax[1].imshow(mat.transpose(), interpolation=\"none\", origin='lower', \\\n",
    "                     cmap='hot')\n",
    "        mat = np.zeros((10,10), float)\n",
    "        for i in [x for x in zip(self.msm.msms[10].keep_keys, \\\n",
    "                                 self.msm.msms[10].rvecsT[:,2])]:\n",
    "            #print i, i[0]%20, int(i[0]/20), -i[1]\n",
    "            mat[i[0]%10, int(i[0]/10)] = -i[1]\n",
    "        _ = ax[2].imshow(mat.transpose(), interpolation=\"none\", origin='lower', \\\n",
    "                         cmap='hot')\n",
    "    def test_convergence(self):\n",
    "        times = [1, 3, 10, 30, 100]\n",
    "        self.msm.convergence_test(time=times, error=True)\n",
    "        self.assertEqual(len(self.msm.msms),len(times))\n",
    "        for time in times:\n",
    "            self.assertIsNotNone(self.msm.msms[time].tauT)\n",
    "            self.assertIsNotNone(self.msm.msms[time].tau_std)\n",
    "#         tau_vs_lagt = np.array([[x,self.msm.msms[x].tauT[0],self.msm.msms[x].tau_std[0]] \\\n",
    "#                        for x in sorted(self.msm.msms.keys())])\n",
    "#         fig, ax = plt.subplots()\n",
    "#         ax.errorbar(tau_vs_lagt[:,0],tau_vs_lagt[:,1],fmt='o-', yerr=tau_vs_lagt[:,2], markersize=10)\n",
    "#         ax.fill_between(10**np.arange(-0.2,3,0.2), 1e-1, 10**np.arange(-0.2,3,0.2), facecolor='lightgray')\n",
    "#         ax.set_xlabel(r'$\\Delta$t [ps]', fontsize=16)\n",
    "#         ax.set_ylabel(r'$\\tau$ [ps]', fontsize=16)\n",
    "#         ax.set_xlim(0.8,200)\n",
    "#         ax.set_ylim(0,100)\n",
    "#         _ = ax.set_xscale('log')\n",
    "\n",
    "        pass\n",
    "class UseFewSM(unittest.TestCase):\n",
    "    def setUp(self):\n",
    "        top = 'data/alaTB.gro'\n",
    "        trj = ['data/protein_only.xtc']\n",
    "        tr = traj.TimeSeries(top=top, traj=trj)\n",
    "        self.tr = tr\n",
    "        self.tr.discretize(method='ramagrid',nbins=20)\n",
    "        self.tr.find_keys()\n",
    "        self.msm = msm.SuperMSM([self.tr])\n",
    "        self.msm.do_msm(10)\n",
    "        self.msm.msms[10].do_trans(evecs=True)\n",
    "        self.msm.msms[10].boots()\n",
    "    def test_fewsm(self):\n",
    "        self.fewsm = fewsm.FEWSM(self.msm.msms[10], N=2)\n",
    "        self.assertIsNotNone(self.fewsm)\n",
    "        self.fewsm.map_trajectory()\n",
    "        self.assertIsNotNone(self.tr.mappedtraj)\n",
    "if __name__ == \"__main__\":\n",
    "    unittest.main(argv=['first-arg-is-ignored'], exit=False,verbosity=2)\n"
   ]
  },
  {
   "cell_type": "markdown",
   "metadata": {},
   "source": [
    "### "
   ]
  },
  {
   "cell_type": "code",
   "execution_count": null,
   "metadata": {},
   "outputs": [],
   "source": []
  }
 ],
 "metadata": {
  "kernelspec": {
   "display_name": "Python 3",
   "language": "python",
   "name": "python3"
  },
  "language_info": {
   "codemirror_mode": {
    "name": "ipython",
    "version": 3
   },
   "file_extension": ".py",
   "mimetype": "text/x-python",
   "name": "python",
   "nbconvert_exporter": "python",
   "pygments_lexer": "ipython3",
   "version": "3.7.3"
  }
 },
 "nbformat": 4,
 "nbformat_minor": 1
}
